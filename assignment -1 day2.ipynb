{
 "cells": [
  {
   "cell_type": "code",
   "execution_count": 5,
   "metadata": {},
   "outputs": [
    {
     "name": "stdout",
     "output_type": "stream",
     "text": [
      " enter the number 6500\n",
      "turn around\n"
     ]
    }
   ],
   "source": [
    "num = input(\" enter the number \")\n",
    "num = int\n",
    "x = 5000\n",
    "\n",
    "\n",
    "if x<1000:\n",
    "    print(\" safe to land \")\n",
    "elif x>1000 and x<5000:\n",
    "    print(\" bring it down to 1000ft \")\n",
    "elif x>5000:\n",
    "    print(\" turn around \")\n",
    "else:\n",
    "    print(\"turn around\")"
   ]
  },
  {
   "cell_type": "code",
   "execution_count": null,
   "metadata": {},
   "outputs": [],
   "source": []
  }
 ],
 "metadata": {
  "kernelspec": {
   "display_name": "Python 3",
   "language": "python",
   "name": "python3"
  },
  "language_info": {
   "codemirror_mode": {
    "name": "ipython",
    "version": 3
   },
   "file_extension": ".py",
   "mimetype": "text/x-python",
   "name": "python",
   "nbconvert_exporter": "python",
   "pygments_lexer": "ipython3",
   "version": "3.8.3"
  }
 },
 "nbformat": 4,
 "nbformat_minor": 4
}
